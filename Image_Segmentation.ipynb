{
 "cells": [
  {
   "cell_type": "code",
   "execution_count": 1,
   "metadata": {},
   "outputs": [],
   "source": [
    "from jupyterthemes import jtplot\n",
    "jtplot.style(theme='chesterish')"
   ]
  },
  {
   "cell_type": "code",
   "execution_count": 40,
   "metadata": {},
   "outputs": [],
   "source": [
    "import numpy as np\n",
    "from PIL import Image, ImageDraw\n",
    "from tqdm import tqdm\n",
    "import os\n",
    "import matplotlib.pyplot as plt"
   ]
  },
  {
   "cell_type": "code",
   "execution_count": 28,
   "metadata": {},
   "outputs": [],
   "source": [
    "\"\"\"\n",
    "Corners Dictionary maps the every image to the bounding box coordinates: x0, y0, x1, y1\n",
    "\"\"\"\n",
    "image_bounding_box = {\n",
    "    \"IMG_0854.jpg\": [879,1061,295,568],\n",
    "    \"IMG_0855.jpg\": [127,669,846,1300],\n",
    "    \"IMG_0856.jpg\": [381,747,888,1196],\n",
    "    \"IMG_0857.jpg\": [349,577,748,1068],\n",
    "    \"IMG_0858.jpg\": [339,630,681,1062],\n",
    "    \"IMG_0859.jpg\": [383,670,816,1170],\n",
    "    \"IMG_0860.jpg\": [833,639,1383,1232],\n",
    "    \"IMG_0861.jpg\": [965,611,1373,1049],\n",
    "    \"IMG_0862.jpg\": [926,712,1336,1124],\n",
    "    \"IMG_0863.jpg\": [1190,1088,610,438],\n",
    "}\n",
    "data_dir = \"data/image_segmentation_dataset/\""
   ]
  },
  {
   "cell_type": "code",
   "execution_count": 38,
   "metadata": {},
   "outputs": [],
   "source": [
    "def get_dataset(data_dir):\n",
    "    \"\"\"\n",
    "    Returns:\n",
    "        colors_box        : N1x3 RGB data within bounding box\n",
    "        colors_background : N2x3 RGB data for background\n",
    "    \"\"\"\n",
    "    colors_box = []\n",
    "    colors_background = []\n",
    "    for img_name, box in tqdm(image_bounding_box.items()):\n",
    "        image_path = os.path.join(data_dir, img_name)\n",
    "        img = Image.open(image_path)\n",
    "        values = img.load()\n",
    "        for i in range(im.size[0]): #width x-coordinates\n",
    "            for j in range(im.size[1]): #height y-coordinates\n",
    "                if i >= box[0] and i <= box[2] and j >= box[1] and j <= box[3]:\n",
    "                    colors_box.append(values[i, j])\n",
    "                else:\n",
    "                    colors_background.append(values[i, j])\n",
    "                    \n",
    "    return np.asarray(colors_box), np.asarray(colors_background)\n",
    "\n",
    "def draw_rectangle(img, rect_coordinates):\n",
    "    \"\"\"\n",
    "    Rect co-ordinates in [x0, y0, x1, y1]\n",
    "    \"\"\"\n",
    "    draw = ImageDraw.Draw(im)\n",
    "    draw.rectangle([rect_coordinates])\n",
    "    im.show()"
   ]
  },
  {
   "cell_type": "code",
   "execution_count": 46,
   "metadata": {},
   "outputs": [
    {
     "name": "stderr",
     "output_type": "stream",
     "text": [
      "100%|██████████| 10/10 [00:11<00:00,  1.08s/it]\n"
     ]
    },
    {
     "name": "stdout",
     "output_type": "stream",
     "text": [
      "(1761694, 3) (19263746, 3)\n"
     ]
    }
   ],
   "source": [
    "# Generate the dataset for computation\n",
    "colors_box, colors_bg = get_dataset(data_dir)\n",
    "print(colors_box.shape, colors_bg.shape)"
   ]
  },
  {
   "cell_type": "code",
   "execution_count": 65,
   "metadata": {},
   "outputs": [],
   "source": [
    "# Optimize this function if memory errors or taking too long\n",
    "def covariance_over_N(values):\n",
    "    V = np.array([np.outer(x, x) for x in values])\n",
    "    V = np.sum(V, axis=0)\n",
    "    V = V/len(V)\n",
    "    return V"
   ]
  },
  {
   "cell_type": "code",
   "execution_count": 67,
   "metadata": {},
   "outputs": [],
   "source": [
    "# CAREFUL BEFORE RERUNNING THIS: TAKES LONG.\n",
    "# Find mean and variance for colors_bg and colors_box\n",
    "mean_box, mean_bg = np.mean(colors_box, axis=0), np.mean(colors_bg, axis=0)\n",
    "covariance_box, covariance_bg = covariance_over_N(colors_box), covariance_over_N(colors_bg)"
   ]
  },
  {
   "cell_type": "code",
   "execution_count": null,
   "metadata": {},
   "outputs": [],
   "source": [
    "# On Test Time, we need to call only this function\n",
    "def predict(c, mean_ball, covariance_ball, mean_bg, covariance_bg):\n",
    "    \"\"\"\n",
    "    Given an RGB pixel value, predict wether the color is of the ball or not.\n",
    "    This is currentl based on the assumption that the ball color is a Gaussian random\n",
    "    variable with the estimated mean and covariance provided in the parameters.\n",
    "    Params:\n",
    "        c               : 3x1 vector of color values of a pixel\n",
    "        mean_ball       : 3x1 vector of mean ball color\n",
    "        covariance_ball : 3x3 matrix of covariance of ball\n",
    "        mean_bg         : 3x1 vector of mean background color\n",
    "        covariance_bg   : 3x3 matrix of covariance of background\n",
    "    Returns:\n",
    "        is_ball : True if ball else False\n",
    "    \"\"\"\n",
    "    \n",
    "    \n",
    "    \n",
    "    "
   ]
  }
 ],
 "metadata": {
  "kernelspec": {
   "display_name": "Python 3",
   "language": "python",
   "name": "python3"
  },
  "language_info": {
   "codemirror_mode": {
    "name": "ipython",
    "version": 3
   },
   "file_extension": ".py",
   "mimetype": "text/x-python",
   "name": "python",
   "nbconvert_exporter": "python",
   "pygments_lexer": "ipython3",
   "version": "3.6.8"
  }
 },
 "nbformat": 4,
 "nbformat_minor": 2
}
