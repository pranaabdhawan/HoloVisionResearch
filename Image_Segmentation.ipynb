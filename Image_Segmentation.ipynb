{
 "cells": [
  {
   "cell_type": "code",
   "execution_count": 1,
   "metadata": {},
   "outputs": [],
   "source": [
    "from jupyterthemes import jtplot\n",
    "jtplot.style(theme='chesterish')"
   ]
  },
  {
   "cell_type": "code",
   "execution_count": 69,
   "metadata": {},
   "outputs": [],
   "source": [
    "import numpy as np\n",
    "from PIL import Image, ImageDraw\n",
    "from tqdm import tqdm\n",
    "import os\n",
    "import matplotlib.pyplot as plt\n",
    "import math"
   ]
  },
  {
   "cell_type": "code",
   "execution_count": 28,
   "metadata": {},
   "outputs": [],
   "source": [
    "\"\"\"\n",
    "Corners Dictionary maps the every image to the bounding box coordinates: x0, y0, x1, y1\n",
    "\"\"\"\n",
    "image_bounding_box = {\n",
    "    \"IMG_0854.jpg\": [879,1061,295,568],\n",
    "    \"IMG_0855.jpg\": [127,669,846,1300],\n",
    "    \"IMG_0856.jpg\": [381,747,888,1196],\n",
    "    \"IMG_0857.jpg\": [349,577,748,1068],\n",
    "    \"IMG_0858.jpg\": [339,630,681,1062],\n",
    "    \"IMG_0859.jpg\": [383,670,816,1170],\n",
    "    \"IMG_0860.jpg\": [833,639,1383,1232],\n",
    "    \"IMG_0861.jpg\": [965,611,1373,1049],\n",
    "    \"IMG_0862.jpg\": [926,712,1336,1124],\n",
    "    \"IMG_0863.jpg\": [1190,1088,610,438],\n",
    "}\n",
    "data_dir = \"data/image_segmentation_dataset/\""
   ]
  },
  {
   "cell_type": "code",
   "execution_count": 122,
   "metadata": {},
   "outputs": [],
   "source": [
    "def draw_rectangle(img_path, rect_coordinates):\n",
    "    \"\"\"\n",
    "    Rect co-ordinates in [x0, y0, x1, y1]\n",
    "    \"\"\"\n",
    "    im = Image.open(img_path)\n",
    "    draw = ImageDraw.Draw(im)\n",
    "    draw.rectangle(rect_coordinates)\n",
    "    im.show()\n",
    "    \n",
    "def get_dataset(data_dir):\n",
    "    \"\"\"\n",
    "    Returns:\n",
    "        colors_box        : N1x3 RGB data within bounding box\n",
    "        colors_background : N2x3 RGB data for background\n",
    "    \"\"\"\n",
    "    colors_box = []\n",
    "    colors_background = []\n",
    "    for img_name, box in tqdm(image_bounding_box.items()):\n",
    "        image_path = os.path.join(data_dir, img_name)\n",
    "        img = Image.open(image_path)\n",
    "        draw_rectangle(image_path, box)\n",
    "        values = img.load()\n",
    "        for i in range(im.size[0]): #width x-coordinates\n",
    "            for j in range(im.size[1]): #height y-coordinates\n",
    "                if i >= box[0] and i <= box[2] and j >= box[1] and j <= box[3]:\n",
    "                    colors_box.append(values[i, j])\n",
    "                else:\n",
    "                    colors_background.append(values[i, j])\n",
    "                    \n",
    "    return np.asarray(colors_box), np.asarray(colors_background)\n"
   ]
  },
  {
   "cell_type": "code",
   "execution_count": 123,
   "metadata": {},
   "outputs": [
    {
     "name": "stderr",
     "output_type": "stream",
     "text": [
      "100%|██████████| 10/10 [00:15<00:00,  1.59s/it]\n"
     ]
    },
    {
     "name": "stdout",
     "output_type": "stream",
     "text": [
      "(1761694, 3) (19263746, 3)\n"
     ]
    }
   ],
   "source": [
    "# Generate the dataset for computation\n",
    "colors_box, colors_bg = get_dataset(data_dir)\n",
    "print(colors_box.shape, colors_bg.shape)"
   ]
  },
  {
   "cell_type": "code",
   "execution_count": 118,
   "metadata": {},
   "outputs": [],
   "source": [
    "# Optimize this function if memory errors or taking too long\n",
    "def covariance_over_N(values):\n",
    "    V = np.array([np.outer(x, x) for x in values])\n",
    "    V = np.sum(V, axis=0)\n",
    "    V = V/len(values)\n",
    "    return V"
   ]
  },
  {
   "cell_type": "code",
   "execution_count": 119,
   "metadata": {},
   "outputs": [],
   "source": [
    "# CAREFUL BEFORE RERUNNING THIS: TAKES LONG.\n",
    "# Find mean and variance for colors_bg and colors_box\n",
    "mean_box, mean_bg = np.mean(colors_box, axis=0), np.mean(colors_bg, axis=0)\n",
    "covariance_box, covariance_bg = covariance_over_N(colors_box), covariance_over_N(colors_bg)"
   ]
  },
  {
   "cell_type": "code",
   "execution_count": 130,
   "metadata": {},
   "outputs": [],
   "source": [
    "# On Test Time, we need to call only this function\n",
    "def get_likelihood(c, mean, covariance):\n",
    "    c_minus_mean = c - mean\n",
    "    exp_value = math.exp((-1./2)*(c_minus_mean.T.dot(np.linalg.inv(covariance)).dot(c_minus_mean)))\n",
    "    likelihood = (1./(math.pow(math.pi*2,3/2)*math.pow(np.linalg.det(covariance), 1/2)))*exp_value\n",
    "    return likelihood\n",
    "    \n",
    "def predict(c, mean_ball, covariance_ball, mean_bg, covariance_bg):\n",
    "    \"\"\"\n",
    "    Given an RGB pixel value, predict wether the color is of the ball or not.\n",
    "    This is currentl based on the assumption that the ball color is a Gaussian random\n",
    "    variable with the estimated mean and covariance provided in the parameters.\n",
    "    Params:\n",
    "        c               : 3x1 vector of color values of a pixel\n",
    "        mean_ball       : 3x1 vector of mean ball color\n",
    "        covariance_ball : 3x3 matrix of covariance of ball\n",
    "        mean_bg         : 3x1 vector of mean background color\n",
    "        covariance_bg   : 3x3 matrix of covariance of background\n",
    "    Returns:\n",
    "        is_ball : True if ball else False\n",
    "    \"\"\"\n",
    "    likelihood_ball = get_likelihood(c, mean_ball, covariance_ball)\n",
    "    likelihood_bg = get_likelihood(c, mean_bg, covariance_bg)\n",
    "    neuman_test = likelihood_ball/likelihood_bg\n",
    "    return True if neuman_test >= 1 else False"
   ]
  },
  {
   "cell_type": "code",
   "execution_count": 115,
   "metadata": {},
   "outputs": [
    {
     "name": "stdout",
     "output_type": "stream",
     "text": [
      "[192.89465878 161.11108058 122.47488043] [[40903.41178718 34572.39653652 26573.13959519]\n",
      " [34572.39653652 29438.7280958  22785.92881511]\n",
      " [26573.13959519 22785.92881511 17905.51499296]]\n",
      "[98.19560666 86.25705525 72.70906489] [[15605.9879892  13563.11986968 11125.28629343]\n",
      " [13563.11986968 12047.85838429 10141.88069948]\n",
      " [11125.28629343 10141.88069948  8919.89747747]]\n",
      "1.7096645440771482e-06\n",
      "1.7200743981727961e-06\n"
     ]
    },
    {
     "data": {
      "text/plain": [
       "False"
      ]
     },
     "execution_count": 115,
     "metadata": {},
     "output_type": "execute_result"
    }
   ],
   "source": [
    "c = [192, 161, 122]\n",
    "print(mean_box, covariance_box)\n",
    "print(mean_bg, covariance_bg)\n",
    "predict(c, mean_ball=mean_box, mean_bg=mean_bg, covariance_ball=covariance_box, covariance_bg=covariance_bg)"
   ]
  },
  {
   "cell_type": "code",
   "execution_count": 132,
   "metadata": {},
   "outputs": [],
   "source": [
    "im = Image.open(os.path.join(data_dir, \"IMG_0862.jpg\"))\n",
    "pixels = im.load() # create the pixel map\n",
    "for i in range(im.size[0]): # for every pixel:\n",
    "    for j in range(im.size[1]):\n",
    "        if predict(c=pixels[i,j], mean_ball=mean_box, mean_bg=mean_bg, covariance_ball=covariance_box, covariance_bg=covariance_bg):\n",
    "            pixels[i,j] = (0, 0 ,0)\n",
    "im.show()\n"
   ]
  },
  {
   "cell_type": "code",
   "execution_count": null,
   "metadata": {},
   "outputs": [],
   "source": []
  }
 ],
 "metadata": {
  "kernelspec": {
   "display_name": "Python 3",
   "language": "python",
   "name": "python3"
  },
  "language_info": {
   "codemirror_mode": {
    "name": "ipython",
    "version": 3
   },
   "file_extension": ".py",
   "mimetype": "text/x-python",
   "name": "python",
   "nbconvert_exporter": "python",
   "pygments_lexer": "ipython3",
   "version": "3.6.8"
  }
 },
 "nbformat": 4,
 "nbformat_minor": 2
}
